{
  "nbformat": 4,
  "nbformat_minor": 0,
  "metadata": {
    "colab": {
      "provenance": []
    },
    "kernelspec": {
      "name": "python3",
      "display_name": "Python 3"
    },
    "language_info": {
      "name": "python"
    }
  },
  "cells": [
    {
      "cell_type": "code",
      "execution_count": null,
      "metadata": {
        "id": "KkI3S-Xe4PdH"
      },
      "outputs": [],
      "source": [
        "# importando bibliotecas\n",
        "import pandas as pd\n",
        "import numpy as np"
      ]
    },
    {
      "cell_type": "code",
      "source": [
        "# Carregando o conjunto de dados\n",
        "df = pd.read_csv(\"/content/bike-sharing.csv\")"
      ],
      "metadata": {
        "id": "_oU4EEIX4hyR"
      },
      "execution_count": null,
      "outputs": []
    },
    {
      "cell_type": "code",
      "source": [
        "# Exibindo as primeiras linhas do DataFrame\n",
        "df.head()"
      ],
      "metadata": {
        "colab": {
          "base_uri": "https://localhost:8080/",
          "height": 357
        },
        "id": "JgnGR5mj7Ot7",
        "outputId": "d9eaa13d-6a2a-48fa-b276-7fc91a21815c"
      },
      "execution_count": null,
      "outputs": [
        {
          "output_type": "execute_result",
          "data": {
            "text/plain": [
              "     datetime  rec_id  season  year  month  hour  is_holiday  weekday  \\\n",
              "0  2011-01-01       1       1     0      1     0           0        6   \n",
              "1  2011-01-01       2       1     0      1     1           0        6   \n",
              "2  2011-01-01       3       1     0      1     2           0        6   \n",
              "3  2011-01-01       4       1     0      1     3           0        6   \n",
              "4  2011-01-01       5       1     0      1     4           0        6   \n",
              "\n",
              "   is_workingday  weather_condition  temp   atemp  humidity  windspeed  \\\n",
              "0              0                  1  0.24  0.2879      0.81        0.0   \n",
              "1              0                  1  0.22  0.2727      0.80        0.0   \n",
              "2              0                  1  0.22  0.2727      0.80        0.0   \n",
              "3              0                  1  0.24  0.2879      0.75        0.0   \n",
              "4              0                  1  0.24  0.2879      0.75        0.0   \n",
              "\n",
              "   casual  registered  total_count  \n",
              "0       3          13           16  \n",
              "1       8          32           40  \n",
              "2       5          27           32  \n",
              "3       3          10           13  \n",
              "4       0           1            1  "
            ],
            "text/html": [
              "\n",
              "  <div id=\"df-69785e6a-acd3-49cd-bf06-683d7f1e82bc\">\n",
              "    <div class=\"colab-df-container\">\n",
              "      <div>\n",
              "<style scoped>\n",
              "    .dataframe tbody tr th:only-of-type {\n",
              "        vertical-align: middle;\n",
              "    }\n",
              "\n",
              "    .dataframe tbody tr th {\n",
              "        vertical-align: top;\n",
              "    }\n",
              "\n",
              "    .dataframe thead th {\n",
              "        text-align: right;\n",
              "    }\n",
              "</style>\n",
              "<table border=\"1\" class=\"dataframe\">\n",
              "  <thead>\n",
              "    <tr style=\"text-align: right;\">\n",
              "      <th></th>\n",
              "      <th>datetime</th>\n",
              "      <th>rec_id</th>\n",
              "      <th>season</th>\n",
              "      <th>year</th>\n",
              "      <th>month</th>\n",
              "      <th>hour</th>\n",
              "      <th>is_holiday</th>\n",
              "      <th>weekday</th>\n",
              "      <th>is_workingday</th>\n",
              "      <th>weather_condition</th>\n",
              "      <th>temp</th>\n",
              "      <th>atemp</th>\n",
              "      <th>humidity</th>\n",
              "      <th>windspeed</th>\n",
              "      <th>casual</th>\n",
              "      <th>registered</th>\n",
              "      <th>total_count</th>\n",
              "    </tr>\n",
              "  </thead>\n",
              "  <tbody>\n",
              "    <tr>\n",
              "      <th>0</th>\n",
              "      <td>2011-01-01</td>\n",
              "      <td>1</td>\n",
              "      <td>1</td>\n",
              "      <td>0</td>\n",
              "      <td>1</td>\n",
              "      <td>0</td>\n",
              "      <td>0</td>\n",
              "      <td>6</td>\n",
              "      <td>0</td>\n",
              "      <td>1</td>\n",
              "      <td>0.24</td>\n",
              "      <td>0.2879</td>\n",
              "      <td>0.81</td>\n",
              "      <td>0.0</td>\n",
              "      <td>3</td>\n",
              "      <td>13</td>\n",
              "      <td>16</td>\n",
              "    </tr>\n",
              "    <tr>\n",
              "      <th>1</th>\n",
              "      <td>2011-01-01</td>\n",
              "      <td>2</td>\n",
              "      <td>1</td>\n",
              "      <td>0</td>\n",
              "      <td>1</td>\n",
              "      <td>1</td>\n",
              "      <td>0</td>\n",
              "      <td>6</td>\n",
              "      <td>0</td>\n",
              "      <td>1</td>\n",
              "      <td>0.22</td>\n",
              "      <td>0.2727</td>\n",
              "      <td>0.80</td>\n",
              "      <td>0.0</td>\n",
              "      <td>8</td>\n",
              "      <td>32</td>\n",
              "      <td>40</td>\n",
              "    </tr>\n",
              "    <tr>\n",
              "      <th>2</th>\n",
              "      <td>2011-01-01</td>\n",
              "      <td>3</td>\n",
              "      <td>1</td>\n",
              "      <td>0</td>\n",
              "      <td>1</td>\n",
              "      <td>2</td>\n",
              "      <td>0</td>\n",
              "      <td>6</td>\n",
              "      <td>0</td>\n",
              "      <td>1</td>\n",
              "      <td>0.22</td>\n",
              "      <td>0.2727</td>\n",
              "      <td>0.80</td>\n",
              "      <td>0.0</td>\n",
              "      <td>5</td>\n",
              "      <td>27</td>\n",
              "      <td>32</td>\n",
              "    </tr>\n",
              "    <tr>\n",
              "      <th>3</th>\n",
              "      <td>2011-01-01</td>\n",
              "      <td>4</td>\n",
              "      <td>1</td>\n",
              "      <td>0</td>\n",
              "      <td>1</td>\n",
              "      <td>3</td>\n",
              "      <td>0</td>\n",
              "      <td>6</td>\n",
              "      <td>0</td>\n",
              "      <td>1</td>\n",
              "      <td>0.24</td>\n",
              "      <td>0.2879</td>\n",
              "      <td>0.75</td>\n",
              "      <td>0.0</td>\n",
              "      <td>3</td>\n",
              "      <td>10</td>\n",
              "      <td>13</td>\n",
              "    </tr>\n",
              "    <tr>\n",
              "      <th>4</th>\n",
              "      <td>2011-01-01</td>\n",
              "      <td>5</td>\n",
              "      <td>1</td>\n",
              "      <td>0</td>\n",
              "      <td>1</td>\n",
              "      <td>4</td>\n",
              "      <td>0</td>\n",
              "      <td>6</td>\n",
              "      <td>0</td>\n",
              "      <td>1</td>\n",
              "      <td>0.24</td>\n",
              "      <td>0.2879</td>\n",
              "      <td>0.75</td>\n",
              "      <td>0.0</td>\n",
              "      <td>0</td>\n",
              "      <td>1</td>\n",
              "      <td>1</td>\n",
              "    </tr>\n",
              "  </tbody>\n",
              "</table>\n",
              "</div>\n",
              "      <button class=\"colab-df-convert\" onclick=\"convertToInteractive('df-69785e6a-acd3-49cd-bf06-683d7f1e82bc')\"\n",
              "              title=\"Convert this dataframe to an interactive table.\"\n",
              "              style=\"display:none;\">\n",
              "        \n",
              "  <svg xmlns=\"http://www.w3.org/2000/svg\" height=\"24px\"viewBox=\"0 0 24 24\"\n",
              "       width=\"24px\">\n",
              "    <path d=\"M0 0h24v24H0V0z\" fill=\"none\"/>\n",
              "    <path d=\"M18.56 5.44l.94 2.06.94-2.06 2.06-.94-2.06-.94-.94-2.06-.94 2.06-2.06.94zm-11 1L8.5 8.5l.94-2.06 2.06-.94-2.06-.94L8.5 2.5l-.94 2.06-2.06.94zm10 10l.94 2.06.94-2.06 2.06-.94-2.06-.94-.94-2.06-.94 2.06-2.06.94z\"/><path d=\"M17.41 7.96l-1.37-1.37c-.4-.4-.92-.59-1.43-.59-.52 0-1.04.2-1.43.59L10.3 9.45l-7.72 7.72c-.78.78-.78 2.05 0 2.83L4 21.41c.39.39.9.59 1.41.59.51 0 1.02-.2 1.41-.59l7.78-7.78 2.81-2.81c.8-.78.8-2.07 0-2.86zM5.41 20L4 18.59l7.72-7.72 1.47 1.35L5.41 20z\"/>\n",
              "  </svg>\n",
              "      </button>\n",
              "      \n",
              "  <style>\n",
              "    .colab-df-container {\n",
              "      display:flex;\n",
              "      flex-wrap:wrap;\n",
              "      gap: 12px;\n",
              "    }\n",
              "\n",
              "    .colab-df-convert {\n",
              "      background-color: #E8F0FE;\n",
              "      border: none;\n",
              "      border-radius: 50%;\n",
              "      cursor: pointer;\n",
              "      display: none;\n",
              "      fill: #1967D2;\n",
              "      height: 32px;\n",
              "      padding: 0 0 0 0;\n",
              "      width: 32px;\n",
              "    }\n",
              "\n",
              "    .colab-df-convert:hover {\n",
              "      background-color: #E2EBFA;\n",
              "      box-shadow: 0px 1px 2px rgba(60, 64, 67, 0.3), 0px 1px 3px 1px rgba(60, 64, 67, 0.15);\n",
              "      fill: #174EA6;\n",
              "    }\n",
              "\n",
              "    [theme=dark] .colab-df-convert {\n",
              "      background-color: #3B4455;\n",
              "      fill: #D2E3FC;\n",
              "    }\n",
              "\n",
              "    [theme=dark] .colab-df-convert:hover {\n",
              "      background-color: #434B5C;\n",
              "      box-shadow: 0px 1px 3px 1px rgba(0, 0, 0, 0.15);\n",
              "      filter: drop-shadow(0px 1px 2px rgba(0, 0, 0, 0.3));\n",
              "      fill: #FFFFFF;\n",
              "    }\n",
              "  </style>\n",
              "\n",
              "      <script>\n",
              "        const buttonEl =\n",
              "          document.querySelector('#df-69785e6a-acd3-49cd-bf06-683d7f1e82bc button.colab-df-convert');\n",
              "        buttonEl.style.display =\n",
              "          google.colab.kernel.accessAllowed ? 'block' : 'none';\n",
              "\n",
              "        async function convertToInteractive(key) {\n",
              "          const element = document.querySelector('#df-69785e6a-acd3-49cd-bf06-683d7f1e82bc');\n",
              "          const dataTable =\n",
              "            await google.colab.kernel.invokeFunction('convertToInteractive',\n",
              "                                                     [key], {});\n",
              "          if (!dataTable) return;\n",
              "\n",
              "          const docLinkHtml = 'Like what you see? Visit the ' +\n",
              "            '<a target=\"_blank\" href=https://colab.research.google.com/notebooks/data_table.ipynb>data table notebook</a>'\n",
              "            + ' to learn more about interactive tables.';\n",
              "          element.innerHTML = '';\n",
              "          dataTable['output_type'] = 'display_data';\n",
              "          await google.colab.output.renderOutput(dataTable, element);\n",
              "          const docLink = document.createElement('div');\n",
              "          docLink.innerHTML = docLinkHtml;\n",
              "          element.appendChild(docLink);\n",
              "        }\n",
              "      </script>\n",
              "    </div>\n",
              "  </div>\n",
              "  "
            ]
          },
          "metadata": {},
          "execution_count": 190
        }
      ]
    },
    {
      "cell_type": "code",
      "source": [
        "# Informações sobre as colunas e tipos de dados\n",
        "df.info()"
      ],
      "metadata": {
        "colab": {
          "base_uri": "https://localhost:8080/"
        },
        "id": "TNdUPh9ARFrJ",
        "outputId": "3892d303-f82c-475c-dde7-4fe873a24be8"
      },
      "execution_count": null,
      "outputs": [
        {
          "output_type": "stream",
          "name": "stdout",
          "text": [
            "<class 'pandas.core.frame.DataFrame'>\n",
            "RangeIndex: 17379 entries, 0 to 17378\n",
            "Data columns (total 17 columns):\n",
            " #   Column             Non-Null Count  Dtype  \n",
            "---  ------             --------------  -----  \n",
            " 0   datetime           17379 non-null  object \n",
            " 1   rec_id             17379 non-null  int64  \n",
            " 2   season             17379 non-null  int64  \n",
            " 3   year               17379 non-null  int64  \n",
            " 4   month              17379 non-null  int64  \n",
            " 5   hour               17379 non-null  int64  \n",
            " 6   is_holiday         17379 non-null  int64  \n",
            " 7   weekday            17379 non-null  int64  \n",
            " 8   is_workingday      17379 non-null  int64  \n",
            " 9   weather_condition  17379 non-null  int64  \n",
            " 10  temp               17379 non-null  float64\n",
            " 11  atemp              17379 non-null  float64\n",
            " 12  humidity           17379 non-null  float64\n",
            " 13  windspeed          17379 non-null  float64\n",
            " 14  casual             17379 non-null  int64  \n",
            " 15  registered         17379 non-null  int64  \n",
            " 16  total_count        17379 non-null  int64  \n",
            "dtypes: float64(4), int64(12), object(1)\n",
            "memory usage: 2.3+ MB\n"
          ]
        }
      ]
    },
    {
      "cell_type": "code",
      "source": [
        "# Resumo estatístico dos dados numéricos\n",
        "df.describe()"
      ],
      "metadata": {
        "colab": {
          "base_uri": "https://localhost:8080/",
          "height": 364
        },
        "id": "-TDD9VIORboR",
        "outputId": "02109cbf-314c-45db-f292-f65c217825ba"
      },
      "execution_count": null,
      "outputs": [
        {
          "output_type": "execute_result",
          "data": {
            "text/plain": [
              "           rec_id        season          year         month          hour  \\\n",
              "count  17379.0000  17379.000000  17379.000000  17379.000000  17379.000000   \n",
              "mean    8690.0000      2.501640      0.502561      6.537775     11.546752   \n",
              "std     5017.0295      1.106918      0.500008      3.438776      6.914405   \n",
              "min        1.0000      1.000000      0.000000      1.000000      0.000000   \n",
              "25%     4345.5000      2.000000      0.000000      4.000000      6.000000   \n",
              "50%     8690.0000      3.000000      1.000000      7.000000     12.000000   \n",
              "75%    13034.5000      3.000000      1.000000     10.000000     18.000000   \n",
              "max    17379.0000      4.000000      1.000000     12.000000     23.000000   \n",
              "\n",
              "         is_holiday       weekday  is_workingday  weather_condition  \\\n",
              "count  17379.000000  17379.000000   17379.000000       17379.000000   \n",
              "mean       0.028770      3.003683       0.682721           1.425283   \n",
              "std        0.167165      2.005771       0.465431           0.639357   \n",
              "min        0.000000      0.000000       0.000000           1.000000   \n",
              "25%        0.000000      1.000000       0.000000           1.000000   \n",
              "50%        0.000000      3.000000       1.000000           1.000000   \n",
              "75%        0.000000      5.000000       1.000000           2.000000   \n",
              "max        1.000000      6.000000       1.000000           4.000000   \n",
              "\n",
              "               temp         atemp      humidity     windspeed        casual  \\\n",
              "count  17379.000000  17379.000000  17379.000000  17379.000000  17379.000000   \n",
              "mean       0.496987      0.475775      0.627229      0.190098     35.676218   \n",
              "std        0.192556      0.171850      0.192930      0.122340     49.305030   \n",
              "min        0.020000      0.000000      0.000000      0.000000      0.000000   \n",
              "25%        0.340000      0.333300      0.480000      0.104500      4.000000   \n",
              "50%        0.500000      0.484800      0.630000      0.194000     17.000000   \n",
              "75%        0.660000      0.621200      0.780000      0.253700     48.000000   \n",
              "max        1.000000      1.000000      1.000000      0.850700    367.000000   \n",
              "\n",
              "         registered   total_count  \n",
              "count  17379.000000  17379.000000  \n",
              "mean     153.786869    189.463088  \n",
              "std      151.357286    181.387599  \n",
              "min        0.000000      1.000000  \n",
              "25%       34.000000     40.000000  \n",
              "50%      115.000000    142.000000  \n",
              "75%      220.000000    281.000000  \n",
              "max      886.000000    977.000000  "
            ],
            "text/html": [
              "\n",
              "  <div id=\"df-ae6ff0ff-6f38-4b60-a058-17d4589cc270\">\n",
              "    <div class=\"colab-df-container\">\n",
              "      <div>\n",
              "<style scoped>\n",
              "    .dataframe tbody tr th:only-of-type {\n",
              "        vertical-align: middle;\n",
              "    }\n",
              "\n",
              "    .dataframe tbody tr th {\n",
              "        vertical-align: top;\n",
              "    }\n",
              "\n",
              "    .dataframe thead th {\n",
              "        text-align: right;\n",
              "    }\n",
              "</style>\n",
              "<table border=\"1\" class=\"dataframe\">\n",
              "  <thead>\n",
              "    <tr style=\"text-align: right;\">\n",
              "      <th></th>\n",
              "      <th>rec_id</th>\n",
              "      <th>season</th>\n",
              "      <th>year</th>\n",
              "      <th>month</th>\n",
              "      <th>hour</th>\n",
              "      <th>is_holiday</th>\n",
              "      <th>weekday</th>\n",
              "      <th>is_workingday</th>\n",
              "      <th>weather_condition</th>\n",
              "      <th>temp</th>\n",
              "      <th>atemp</th>\n",
              "      <th>humidity</th>\n",
              "      <th>windspeed</th>\n",
              "      <th>casual</th>\n",
              "      <th>registered</th>\n",
              "      <th>total_count</th>\n",
              "    </tr>\n",
              "  </thead>\n",
              "  <tbody>\n",
              "    <tr>\n",
              "      <th>count</th>\n",
              "      <td>17379.0000</td>\n",
              "      <td>17379.000000</td>\n",
              "      <td>17379.000000</td>\n",
              "      <td>17379.000000</td>\n",
              "      <td>17379.000000</td>\n",
              "      <td>17379.000000</td>\n",
              "      <td>17379.000000</td>\n",
              "      <td>17379.000000</td>\n",
              "      <td>17379.000000</td>\n",
              "      <td>17379.000000</td>\n",
              "      <td>17379.000000</td>\n",
              "      <td>17379.000000</td>\n",
              "      <td>17379.000000</td>\n",
              "      <td>17379.000000</td>\n",
              "      <td>17379.000000</td>\n",
              "      <td>17379.000000</td>\n",
              "    </tr>\n",
              "    <tr>\n",
              "      <th>mean</th>\n",
              "      <td>8690.0000</td>\n",
              "      <td>2.501640</td>\n",
              "      <td>0.502561</td>\n",
              "      <td>6.537775</td>\n",
              "      <td>11.546752</td>\n",
              "      <td>0.028770</td>\n",
              "      <td>3.003683</td>\n",
              "      <td>0.682721</td>\n",
              "      <td>1.425283</td>\n",
              "      <td>0.496987</td>\n",
              "      <td>0.475775</td>\n",
              "      <td>0.627229</td>\n",
              "      <td>0.190098</td>\n",
              "      <td>35.676218</td>\n",
              "      <td>153.786869</td>\n",
              "      <td>189.463088</td>\n",
              "    </tr>\n",
              "    <tr>\n",
              "      <th>std</th>\n",
              "      <td>5017.0295</td>\n",
              "      <td>1.106918</td>\n",
              "      <td>0.500008</td>\n",
              "      <td>3.438776</td>\n",
              "      <td>6.914405</td>\n",
              "      <td>0.167165</td>\n",
              "      <td>2.005771</td>\n",
              "      <td>0.465431</td>\n",
              "      <td>0.639357</td>\n",
              "      <td>0.192556</td>\n",
              "      <td>0.171850</td>\n",
              "      <td>0.192930</td>\n",
              "      <td>0.122340</td>\n",
              "      <td>49.305030</td>\n",
              "      <td>151.357286</td>\n",
              "      <td>181.387599</td>\n",
              "    </tr>\n",
              "    <tr>\n",
              "      <th>min</th>\n",
              "      <td>1.0000</td>\n",
              "      <td>1.000000</td>\n",
              "      <td>0.000000</td>\n",
              "      <td>1.000000</td>\n",
              "      <td>0.000000</td>\n",
              "      <td>0.000000</td>\n",
              "      <td>0.000000</td>\n",
              "      <td>0.000000</td>\n",
              "      <td>1.000000</td>\n",
              "      <td>0.020000</td>\n",
              "      <td>0.000000</td>\n",
              "      <td>0.000000</td>\n",
              "      <td>0.000000</td>\n",
              "      <td>0.000000</td>\n",
              "      <td>0.000000</td>\n",
              "      <td>1.000000</td>\n",
              "    </tr>\n",
              "    <tr>\n",
              "      <th>25%</th>\n",
              "      <td>4345.5000</td>\n",
              "      <td>2.000000</td>\n",
              "      <td>0.000000</td>\n",
              "      <td>4.000000</td>\n",
              "      <td>6.000000</td>\n",
              "      <td>0.000000</td>\n",
              "      <td>1.000000</td>\n",
              "      <td>0.000000</td>\n",
              "      <td>1.000000</td>\n",
              "      <td>0.340000</td>\n",
              "      <td>0.333300</td>\n",
              "      <td>0.480000</td>\n",
              "      <td>0.104500</td>\n",
              "      <td>4.000000</td>\n",
              "      <td>34.000000</td>\n",
              "      <td>40.000000</td>\n",
              "    </tr>\n",
              "    <tr>\n",
              "      <th>50%</th>\n",
              "      <td>8690.0000</td>\n",
              "      <td>3.000000</td>\n",
              "      <td>1.000000</td>\n",
              "      <td>7.000000</td>\n",
              "      <td>12.000000</td>\n",
              "      <td>0.000000</td>\n",
              "      <td>3.000000</td>\n",
              "      <td>1.000000</td>\n",
              "      <td>1.000000</td>\n",
              "      <td>0.500000</td>\n",
              "      <td>0.484800</td>\n",
              "      <td>0.630000</td>\n",
              "      <td>0.194000</td>\n",
              "      <td>17.000000</td>\n",
              "      <td>115.000000</td>\n",
              "      <td>142.000000</td>\n",
              "    </tr>\n",
              "    <tr>\n",
              "      <th>75%</th>\n",
              "      <td>13034.5000</td>\n",
              "      <td>3.000000</td>\n",
              "      <td>1.000000</td>\n",
              "      <td>10.000000</td>\n",
              "      <td>18.000000</td>\n",
              "      <td>0.000000</td>\n",
              "      <td>5.000000</td>\n",
              "      <td>1.000000</td>\n",
              "      <td>2.000000</td>\n",
              "      <td>0.660000</td>\n",
              "      <td>0.621200</td>\n",
              "      <td>0.780000</td>\n",
              "      <td>0.253700</td>\n",
              "      <td>48.000000</td>\n",
              "      <td>220.000000</td>\n",
              "      <td>281.000000</td>\n",
              "    </tr>\n",
              "    <tr>\n",
              "      <th>max</th>\n",
              "      <td>17379.0000</td>\n",
              "      <td>4.000000</td>\n",
              "      <td>1.000000</td>\n",
              "      <td>12.000000</td>\n",
              "      <td>23.000000</td>\n",
              "      <td>1.000000</td>\n",
              "      <td>6.000000</td>\n",
              "      <td>1.000000</td>\n",
              "      <td>4.000000</td>\n",
              "      <td>1.000000</td>\n",
              "      <td>1.000000</td>\n",
              "      <td>1.000000</td>\n",
              "      <td>0.850700</td>\n",
              "      <td>367.000000</td>\n",
              "      <td>886.000000</td>\n",
              "      <td>977.000000</td>\n",
              "    </tr>\n",
              "  </tbody>\n",
              "</table>\n",
              "</div>\n",
              "      <button class=\"colab-df-convert\" onclick=\"convertToInteractive('df-ae6ff0ff-6f38-4b60-a058-17d4589cc270')\"\n",
              "              title=\"Convert this dataframe to an interactive table.\"\n",
              "              style=\"display:none;\">\n",
              "        \n",
              "  <svg xmlns=\"http://www.w3.org/2000/svg\" height=\"24px\"viewBox=\"0 0 24 24\"\n",
              "       width=\"24px\">\n",
              "    <path d=\"M0 0h24v24H0V0z\" fill=\"none\"/>\n",
              "    <path d=\"M18.56 5.44l.94 2.06.94-2.06 2.06-.94-2.06-.94-.94-2.06-.94 2.06-2.06.94zm-11 1L8.5 8.5l.94-2.06 2.06-.94-2.06-.94L8.5 2.5l-.94 2.06-2.06.94zm10 10l.94 2.06.94-2.06 2.06-.94-2.06-.94-.94-2.06-.94 2.06-2.06.94z\"/><path d=\"M17.41 7.96l-1.37-1.37c-.4-.4-.92-.59-1.43-.59-.52 0-1.04.2-1.43.59L10.3 9.45l-7.72 7.72c-.78.78-.78 2.05 0 2.83L4 21.41c.39.39.9.59 1.41.59.51 0 1.02-.2 1.41-.59l7.78-7.78 2.81-2.81c.8-.78.8-2.07 0-2.86zM5.41 20L4 18.59l7.72-7.72 1.47 1.35L5.41 20z\"/>\n",
              "  </svg>\n",
              "      </button>\n",
              "      \n",
              "  <style>\n",
              "    .colab-df-container {\n",
              "      display:flex;\n",
              "      flex-wrap:wrap;\n",
              "      gap: 12px;\n",
              "    }\n",
              "\n",
              "    .colab-df-convert {\n",
              "      background-color: #E8F0FE;\n",
              "      border: none;\n",
              "      border-radius: 50%;\n",
              "      cursor: pointer;\n",
              "      display: none;\n",
              "      fill: #1967D2;\n",
              "      height: 32px;\n",
              "      padding: 0 0 0 0;\n",
              "      width: 32px;\n",
              "    }\n",
              "\n",
              "    .colab-df-convert:hover {\n",
              "      background-color: #E2EBFA;\n",
              "      box-shadow: 0px 1px 2px rgba(60, 64, 67, 0.3), 0px 1px 3px 1px rgba(60, 64, 67, 0.15);\n",
              "      fill: #174EA6;\n",
              "    }\n",
              "\n",
              "    [theme=dark] .colab-df-convert {\n",
              "      background-color: #3B4455;\n",
              "      fill: #D2E3FC;\n",
              "    }\n",
              "\n",
              "    [theme=dark] .colab-df-convert:hover {\n",
              "      background-color: #434B5C;\n",
              "      box-shadow: 0px 1px 3px 1px rgba(0, 0, 0, 0.15);\n",
              "      filter: drop-shadow(0px 1px 2px rgba(0, 0, 0, 0.3));\n",
              "      fill: #FFFFFF;\n",
              "    }\n",
              "  </style>\n",
              "\n",
              "      <script>\n",
              "        const buttonEl =\n",
              "          document.querySelector('#df-ae6ff0ff-6f38-4b60-a058-17d4589cc270 button.colab-df-convert');\n",
              "        buttonEl.style.display =\n",
              "          google.colab.kernel.accessAllowed ? 'block' : 'none';\n",
              "\n",
              "        async function convertToInteractive(key) {\n",
              "          const element = document.querySelector('#df-ae6ff0ff-6f38-4b60-a058-17d4589cc270');\n",
              "          const dataTable =\n",
              "            await google.colab.kernel.invokeFunction('convertToInteractive',\n",
              "                                                     [key], {});\n",
              "          if (!dataTable) return;\n",
              "\n",
              "          const docLinkHtml = 'Like what you see? Visit the ' +\n",
              "            '<a target=\"_blank\" href=https://colab.research.google.com/notebooks/data_table.ipynb>data table notebook</a>'\n",
              "            + ' to learn more about interactive tables.';\n",
              "          element.innerHTML = '';\n",
              "          dataTable['output_type'] = 'display_data';\n",
              "          await google.colab.output.renderOutput(dataTable, element);\n",
              "          const docLink = document.createElement('div');\n",
              "          docLink.innerHTML = docLinkHtml;\n",
              "          element.appendChild(docLink);\n",
              "        }\n",
              "      </script>\n",
              "    </div>\n",
              "  </div>\n",
              "  "
            ]
          },
          "metadata": {},
          "execution_count": 192
        }
      ]
    },
    {
      "cell_type": "code",
      "source": [
        "# Contagem de valores únicos em uma coluna específica\n",
        "df['season'].value_counts()"
      ],
      "metadata": {
        "colab": {
          "base_uri": "https://localhost:8080/"
        },
        "id": "sAVwUVQKR4ID",
        "outputId": "92077dab-bfa9-4fff-c38d-93877607fec8"
      },
      "execution_count": null,
      "outputs": [
        {
          "output_type": "execute_result",
          "data": {
            "text/plain": [
              "3    4496\n",
              "2    4409\n",
              "1    4242\n",
              "4    4232\n",
              "Name: season, dtype: int64"
            ]
          },
          "metadata": {},
          "execution_count": 193
        }
      ]
    },
    {
      "cell_type": "code",
      "source": [
        "# Plotando um histograma para uma coluna específica\n",
        "df['temp'].hist()"
      ],
      "metadata": {
        "colab": {
          "base_uri": "https://localhost:8080/",
          "height": 447
        },
        "id": "K89m_bM5SQwx",
        "outputId": "d3603b4b-cffb-40ab-cba7-38fb226cda9b"
      },
      "execution_count": null,
      "outputs": [
        {
          "output_type": "execute_result",
          "data": {
            "text/plain": [
              "<Axes: >"
            ]
          },
          "metadata": {},
          "execution_count": 194
        },
        {
          "output_type": "display_data",
          "data": {
            "text/plain": [
              "<Figure size 640x480 with 1 Axes>"
            ],
            "image/png": "[encoded data removed]"
          },
          "metadata": {}
        }
      ]
    },
    {
      "cell_type": "code",
      "source": [
        "# Correlação entre as colunas\n",
        "df.corr()"
      ],
      "metadata": {
        "colab": {
          "base_uri": "https://localhost:8080/",
          "height": 650
        },
        "id": "32wnh946SgsX",
        "outputId": "ba232d72-8630-4dfb-a1c4-1344472b8215"
      },
      "execution_count": null,
      "outputs": [
        {
          "output_type": "stream",
          "name": "stderr",
          "text": [
            "<ipython-input-195-b40650b8c3f0>:2: FutureWarning: The default value of numeric_only in DataFrame.corr is deprecated. In a future version, it will default to False. Select only valid columns or specify the value of numeric_only to silence this warning.\n",
            "  df.corr()\n"
          ]
        },
        {
          "output_type": "execute_result",
          "data": {
            "text/plain": [
              "                     rec_id    season      year     month      hour  \\\n",
              "rec_id             1.000000  0.404046  0.866014  0.489164 -0.004775   \n",
              "season             0.404046  1.000000 -0.010742  0.830386 -0.006117   \n",
              "year               0.866014 -0.010742  1.000000 -0.010473 -0.003867   \n",
              "month              0.489164  0.830386 -0.010473  1.000000 -0.005772   \n",
              "hour              -0.004775 -0.006117 -0.003867 -0.005772  1.000000   \n",
              "is_holiday         0.014723 -0.009585  0.006692  0.018430  0.000479   \n",
              "weekday            0.001357 -0.002335 -0.004485  0.010400 -0.003498   \n",
              "is_workingday     -0.003416  0.013743 -0.002196 -0.003477  0.002285   \n",
              "weather_condition -0.014198 -0.014524 -0.019157  0.005400 -0.020203   \n",
              "temp               0.136178  0.312025  0.040913  0.201691  0.137603   \n",
              "atemp              0.137615  0.319380  0.039222  0.208096  0.133750   \n",
              "humidity           0.009577  0.150625 -0.083546  0.164411 -0.276498   \n",
              "windspeed         -0.074505 -0.149773 -0.008740 -0.135386  0.137252   \n",
              "casual             0.158295  0.120206  0.142779  0.068457  0.301202   \n",
              "registered         0.282046  0.174226  0.253684  0.122273  0.374141   \n",
              "total_count        0.278379  0.178056  0.250495  0.120638  0.394071   \n",
              "\n",
              "                   is_holiday   weekday  is_workingday  weather_condition  \\\n",
              "rec_id               0.014723  0.001357      -0.003416          -0.014198   \n",
              "season              -0.009585 -0.002335       0.013743          -0.014524   \n",
              "year                 0.006692 -0.004485      -0.002196          -0.019157   \n",
              "month                0.018430  0.010400      -0.003477           0.005400   \n",
              "hour                 0.000479 -0.003498       0.002285          -0.020203   \n",
              "is_holiday           1.000000 -0.102088      -0.252471          -0.017036   \n",
              "weekday             -0.102088  1.000000       0.035955           0.003311   \n",
              "is_workingday       -0.252471  0.035955       1.000000           0.044672   \n",
              "weather_condition   -0.017036  0.003311       0.044672           1.000000   \n",
              "temp                -0.027340 -0.001795       0.055390          -0.102640   \n",
              "atemp               -0.030973 -0.008821       0.054667          -0.105563   \n",
              "humidity            -0.010588 -0.037158       0.015688           0.418130   \n",
              "windspeed            0.003988  0.011502      -0.011830           0.026226   \n",
              "casual               0.031564  0.032721      -0.300942          -0.152628   \n",
              "registered          -0.047345  0.021578       0.134326          -0.120966   \n",
              "total_count         -0.030927  0.026900       0.030284          -0.142426   \n",
              "\n",
              "                       temp     atemp  humidity  windspeed    casual  \\\n",
              "rec_id             0.136178  0.137615  0.009577  -0.074505  0.158295   \n",
              "season             0.312025  0.319380  0.150625  -0.149773  0.120206   \n",
              "year               0.040913  0.039222 -0.083546  -0.008740  0.142779   \n",
              "month              0.201691  0.208096  0.164411  -0.135386  0.068457   \n",
              "hour               0.137603  0.133750 -0.276498   0.137252  0.301202   \n",
              "is_holiday        -0.027340 -0.030973 -0.010588   0.003988  0.031564   \n",
              "weekday           -0.001795 -0.008821 -0.037158   0.011502  0.032721   \n",
              "is_workingday      0.055390  0.054667  0.015688  -0.011830 -0.300942   \n",
              "weather_condition -0.102640 -0.105563  0.418130   0.026226 -0.152628   \n",
              "temp               1.000000  0.987672 -0.069881  -0.023125  0.459616   \n",
              "atemp              0.987672  1.000000 -0.051918  -0.062336  0.454080   \n",
              "humidity          -0.069881 -0.051918  1.000000  -0.290105 -0.347028   \n",
              "windspeed         -0.023125 -0.062336 -0.290105   1.000000  0.090287   \n",
              "casual             0.459616  0.454080 -0.347028   0.090287  1.000000   \n",
              "registered         0.335361  0.332559 -0.273933   0.082321  0.506618   \n",
              "total_count        0.404772  0.400929 -0.322911   0.093234  0.694564   \n",
              "\n",
              "                   registered  total_count  \n",
              "rec_id               0.282046     0.278379  \n",
              "season               0.174226     0.178056  \n",
              "year                 0.253684     0.250495  \n",
              "month                0.122273     0.120638  \n",
              "hour                 0.374141     0.394071  \n",
              "is_holiday          -0.047345    -0.030927  \n",
              "weekday              0.021578     0.026900  \n",
              "is_workingday        0.134326     0.030284  \n",
              "weather_condition   -0.120966    -0.142426  \n",
              "temp                 0.335361     0.404772  \n",
              "atemp                0.332559     0.400929  \n",
              "humidity            -0.273933    -0.322911  \n",
              "windspeed            0.082321     0.093234  \n",
              "casual               0.506618     0.694564  \n",
              "registered           1.000000     0.972151  \n",
              "total_count          0.972151     1.000000  "
            ],
            "text/html": [
              "\n",
              "  <div id=\"df-d00d54fd-7327-491b-ac06-585c05345979\">\n",
              "    <div class=\"colab-df-container\">\n",
              "      <div>\n",
              "<style scoped>\n",
              "    .dataframe tbody tr th:only-of-type {\n",
              "        vertical-align: middle;\n",
              "    }\n",
              "\n",
              "    .dataframe tbody tr th {\n",
              "        vertical-align: top;\n",
              "    }\n",
              "\n",
              "    .dataframe thead th {\n",
              "        text-align: right;\n",
              "    }\n",
              "</style>\n",
              "<table border=\"1\" class=\"dataframe\">\n",
              "  <thead>\n",
              "    <tr style=\"text-align: right;\">\n",
              "      <th></th>\n",
              "      <th>rec_id</th>\n",
              "      <th>season</th>\n",
              "      <th>year</th>\n",
              "      <th>month</th>\n",
              "      <th>hour</th>\n",
              "      <th>is_holiday</th>\n",
              "      <th>weekday</th>\n",
              "      <th>is_workingday</th>\n",
              "      <th>weather_condition</th>\n",
              "      <th>temp</th>\n",
              "      <th>atemp</th>\n",
              "      <th>humidity</th>\n",
              "      <th>windspeed</th>\n",
              "      <th>casual</th>\n",
              "      <th>registered</th>\n",
              "      <th>total_count</th>\n",
              "    </tr>\n",
              "  </thead>\n",
              "  <tbody>\n",
              "    <tr>\n",
              "      <th>rec_id</th>\n",
              "      <td>1.000000</td>\n",
              "      <td>0.404046</td>\n",
              "      <td>0.866014</td>\n",
              "      <td>0.489164</td>\n",
              "      <td>-0.004775</td>\n",
              "      <td>0.014723</td>\n",
              "      <td>0.001357</td>\n",
              "      <td>-0.003416</td>\n",
              "      <td>-0.014198</td>\n",
              "      <td>0.136178</td>\n",
              "      <td>0.137615</td>\n",
              "      <td>0.009577</td>\n",
              "      <td>-0.074505</td>\n",
              "      <td>0.158295</td>\n",
              "      <td>0.282046</td>\n",
              "      <td>0.278379</td>\n",
              "    </tr>\n",
              "    <tr>\n",
              "      <th>season</th>\n",
              "      <td>0.404046</td>\n",
              "      <td>1.000000</td>\n",
              "      <td>-0.010742</td>\n",
              "      <td>0.830386</td>\n",
              "      <td>-0.006117</td>\n",
              "      <td>-0.009585</td>\n",
              "      <td>-0.002335</td>\n",
              "      <td>0.013743</td>\n",
              "      <td>-0.014524</td>\n",
              "      <td>0.312025</td>\n",
              "      <td>0.319380</td>\n",
              "      <td>0.150625</td>\n",
              "      <td>-0.149773</td>\n",
              "      <td>0.120206</td>\n",
              "      <td>0.174226</td>\n",
              "      <td>0.178056</td>\n",
              "    </tr>\n",
              "    <tr>\n",
              "      <th>year</th>\n",
              "      <td>0.866014</td>\n",
              "      <td>-0.010742</td>\n",
              "      <td>1.000000</td>\n",
              "      <td>-0.010473</td>\n",
              "      <td>-0.003867</td>\n",
              "      <td>0.006692</td>\n",
              "      <td>-0.004485</td>\n",
              "      <td>-0.002196</td>\n",
              "      <td>-0.019157</td>\n",
              "      <td>0.040913</td>\n",
              "      <td>0.039222</td>\n",
              "      <td>-0.083546</td>\n",
              "      <td>-0.008740</td>\n",
              "      <td>0.142779</td>\n",
              "      <td>0.253684</td>\n",
              "      <td>0.250495</td>\n",
              "    </tr>\n",
              "    <tr>\n",
              "      <th>month</th>\n",
              "      <td>0.489164</td>\n",
              "      <td>0.830386</td>\n",
              "      <td>-0.010473</td>\n",
              "      <td>1.000000</td>\n",
              "      <td>-0.005772</td>\n",
              "      <td>0.018430</td>\n",
              "      <td>0.010400</td>\n",
              "      <td>-0.003477</td>\n",
              "      <td>0.005400</td>\n",
              "      <td>0.201691</td>\n",
              "      <td>0.208096</td>\n",
              "      <td>0.164411</td>\n",
              "      <td>-0.135386</td>\n",
              "      <td>0.068457</td>\n",
              "      <td>0.122273</td>\n",
              "      <td>0.120638</td>\n",
              "    </tr>\n",
              "    <tr>\n",
              "      <th>hour</th>\n",
              "      <td>-0.004775</td>\n",
              "      <td>-0.006117</td>\n",
              "      <td>-0.003867</td>\n",
              "      <td>-0.005772</td>\n",
              "      <td>1.000000</td>\n",
              "      <td>0.000479</td>\n",
              "      <td>-0.003498</td>\n",
              "      <td>0.002285</td>\n",
              "      <td>-0.020203</td>\n",
              "      <td>0.137603</td>\n",
              "      <td>0.133750</td>\n",
              "      <td>-0.276498</td>\n",
              "      <td>0.137252</td>\n",
              "      <td>0.301202</td>\n",
              "      <td>0.374141</td>\n",
              "      <td>0.394071</td>\n",
              "    </tr>\n",
              "    <tr>\n",
              "      <th>is_holiday</th>\n",
              "      <td>0.014723</td>\n",
              "      <td>-0.009585</td>\n",
              "      <td>0.006692</td>\n",
              "      <td>0.018430</td>\n",
              "      <td>0.000479</td>\n",
              "      <td>1.000000</td>\n",
              "      <td>-0.102088</td>\n",
              "      <td>-0.252471</td>\n",
              "      <td>-0.017036</td>\n",
              "      <td>-0.027340</td>\n",
              "      <td>-0.030973</td>\n",
              "      <td>-0.010588</td>\n",
              "      <td>0.003988</td>\n",
              "      <td>0.031564</td>\n",
              "      <td>-0.047345</td>\n",
              "      <td>-0.030927</td>\n",
              "    </tr>\n",
              "    <tr>\n",
              "      <th>weekday</th>\n",
              "      <td>0.001357</td>\n",
              "      <td>-0.002335</td>\n",
              "      <td>-0.004485</td>\n",
              "      <td>0.010400</td>\n",
              "      <td>-0.003498</td>\n",
              "      <td>-0.102088</td>\n",
              "      <td>1.000000</td>\n",
              "      <td>0.035955</td>\n",
              "      <td>0.003311</td>\n",
              "      <td>-0.001795</td>\n",
              "      <td>-0.008821</td>\n",
              "      <td>-0.037158</td>\n",
              "      <td>0.011502</td>\n",
              "      <td>0.032721</td>\n",
              "      <td>0.021578</td>\n",
              "      <td>0.026900</td>\n",
              "    </tr>\n",
              "    <tr>\n",
              "      <th>is_workingday</th>\n",
              "      <td>-0.003416</td>\n",
              "      <td>0.013743</td>\n",
              "      <td>-0.002196</td>\n",
              "      <td>-0.003477</td>\n",
              "      <td>0.002285</td>\n",
              "      <td>-0.252471</td>\n",
              "      <td>0.035955</td>\n",
              "      <td>1.000000</td>\n",
              "      <td>0.044672</td>\n",
              "      <td>0.055390</td>\n",
              "      <td>0.054667</td>\n",
              "      <td>0.015688</td>\n",
              "      <td>-0.011830</td>\n",
              "      <td>-0.300942</td>\n",
              "      <td>0.134326</td>\n",
              "      <td>0.030284</td>\n",
              "    </tr>\n",
              "    <tr>\n",
              "      <th>weather_condition</th>\n",
              "      <td>-0.014198</td>\n",
              "      <td>-0.014524</td>\n",
              "      <td>-0.019157</td>\n",
              "      <td>0.005400</td>\n",
              "      <td>-0.020203</td>\n",
              "      <td>-0.017036</td>\n",
              "      <td>0.003311</td>\n",
              "      <td>0.044672</td>\n",
              "      <td>1.000000</td>\n",
              "      <td>-0.102640</td>\n",
              "      <td>-0.105563</td>\n",
              "      <td>0.418130</td>\n",
              "      <td>0.026226</td>\n",
              "      <td>-0.152628</td>\n",
              "      <td>-0.120966</td>\n",
              "      <td>-0.142426</td>\n",
              "    </tr>\n",
              "    <tr>\n",
              "      <th>temp</th>\n",
              "      <td>0.136178</td>\n",
              "      <td>0.312025</td>\n",
              "      <td>0.040913</td>\n",
              "      <td>0.201691</td>\n",
              "      <td>0.137603</td>\n",
              "      <td>-0.027340</td>\n",
              "      <td>-0.001795</td>\n",
              "      <td>0.055390</td>\n",
              "      <td>-0.102640</td>\n",
              "      <td>1.000000</td>\n",
              "      <td>0.987672</td>\n",
              "      <td>-0.069881</td>\n",
              "      <td>-0.023125</td>\n",
              "      <td>0.459616</td>\n",
              "      <td>0.335361</td>\n",
              "      <td>0.404772</td>\n",
              "    </tr>\n",
              "    <tr>\n",
              "      <th>atemp</th>\n",
              "      <td>0.137615</td>\n",
              "      <td>0.319380</td>\n",
              "      <td>0.039222</td>\n",
              "      <td>0.208096</td>\n",
              "      <td>0.133750</td>\n",
              "      <td>-0.030973</td>\n",
              "      <td>-0.008821</td>\n",
              "      <td>0.054667</td>\n",
              "      <td>-0.105563</td>\n",
              "      <td>0.987672</td>\n",
              "      <td>1.000000</td>\n",
              "      <td>-0.051918</td>\n",
              "      <td>-0.062336</td>\n",
              "      <td>0.454080</td>\n",
              "      <td>0.332559</td>\n",
              "      <td>0.400929</td>\n",
              "    </tr>\n",
              "    <tr>\n",
              "      <th>humidity</th>\n",
              "      <td>0.009577</td>\n",
              "      <td>0.150625</td>\n",
              "      <td>-0.083546</td>\n",
              "      <td>0.164411</td>\n",
              "      <td>-0.276498</td>\n",
              "      <td>-0.010588</td>\n",
              "      <td>-0.037158</td>\n",
              "      <td>0.015688</td>\n",
              "      <td>0.418130</td>\n",
              "      <td>-0.069881</td>\n",
              "      <td>-0.051918</td>\n",
              "      <td>1.000000</td>\n",
              "      <td>-0.290105</td>\n",
              "      <td>-0.347028</td>\n",
              "      <td>-0.273933</td>\n",
              "      <td>-0.322911</td>\n",
              "    </tr>\n",
              "    <tr>\n",
              "      <th>windspeed</th>\n",
              "      <td>-0.074505</td>\n",
              "      <td>-0.149773</td>\n",
              "      <td>-0.008740</td>\n",
              "      <td>-0.135386</td>\n",
              "      <td>0.137252</td>\n",
              "      <td>0.003988</td>\n",
              "      <td>0.011502</td>\n",
              "      <td>-0.011830</td>\n",
              "      <td>0.026226</td>\n",
              "      <td>-0.023125</td>\n",
              "      <td>-0.062336</td>\n",
              "      <td>-0.290105</td>\n",
              "      <td>1.000000</td>\n",
              "      <td>0.090287</td>\n",
              "      <td>0.082321</td>\n",
              "      <td>0.093234</td>\n",
              "    </tr>\n",
              "    <tr>\n",
              "      <th>casual</th>\n",
              "      <td>0.158295</td>\n",
              "      <td>0.120206</td>\n",
              "      <td>0.142779</td>\n",
              "      <td>0.068457</td>\n",
              "      <td>0.301202</td>\n",
              "      <td>0.031564</td>\n",
              "      <td>0.032721</td>\n",
              "      <td>-0.300942</td>\n",
              "      <td>-0.152628</td>\n",
              "      <td>0.459616</td>\n",
              "      <td>0.454080</td>\n",
              "      <td>-0.347028</td>\n",
              "      <td>0.090287</td>\n",
              "      <td>1.000000</td>\n",
              "      <td>0.506618</td>\n",
              "      <td>0.694564</td>\n",
              "    </tr>\n",
              "    <tr>\n",
              "      <th>registered</th>\n",
              "      <td>0.282046</td>\n",
              "      <td>0.174226</td>\n",
              "      <td>0.253684</td>\n",
              "      <td>0.122273</td>\n",
              "      <td>0.374141</td>\n",
              "      <td>-0.047345</td>\n",
              "      <td>0.021578</td>\n",
              "      <td>0.134326</td>\n",
              "      <td>-0.120966</td>\n",
              "      <td>0.335361</td>\n",
              "      <td>0.332559</td>\n",
              "      <td>-0.273933</td>\n",
              "      <td>0.082321</td>\n",
              "      <td>0.506618</td>\n",
              "      <td>1.000000</td>\n",
              "      <td>0.972151</td>\n",
              "    </tr>\n",
              "    <tr>\n",
              "      <th>total_count</th>\n",
              "      <td>0.278379</td>\n",
              "      <td>0.178056</td>\n",
              "      <td>0.250495</td>\n",
              "      <td>0.120638</td>\n",
              "      <td>0.394071</td>\n",
              "      <td>-0.030927</td>\n",
              "      <td>0.026900</td>\n",
              "      <td>0.030284</td>\n",
              "      <td>-0.142426</td>\n",
              "      <td>0.404772</td>\n",
              "      <td>0.400929</td>\n",
              "      <td>-0.322911</td>\n",
              "      <td>0.093234</td>\n",
              "      <td>0.694564</td>\n",
              "      <td>0.972151</td>\n",
              "      <td>1.000000</td>\n",
              "    </tr>\n",
              "  </tbody>\n",
              "</table>\n",
              "</div>\n",
              "      <button class=\"colab-df-convert\" onclick=\"convertToInteractive('df-d00d54fd-7327-491b-ac06-585c05345979')\"\n",
              "              title=\"Convert this dataframe to an interactive table.\"\n",
              "              style=\"display:none;\">\n",
              "        \n",
              "  <svg xmlns=\"http://www.w3.org/2000/svg\" height=\"24px\"viewBox=\"0 0 24 24\"\n",
              "       width=\"24px\">\n",
              "    <path d=\"M0 0h24v24H0V0z\" fill=\"none\"/>\n",
              "    <path d=\"M18.56 5.44l.94 2.06.94-2.06 2.06-.94-2.06-.94-.94-2.06-.94 2.06-2.06.94zm-11 1L8.5 8.5l.94-2.06 2.06-.94-2.06-.94L8.5 2.5l-.94 2.06-2.06.94zm10 10l.94 2.06.94-2.06 2.06-.94-2.06-.94-.94-2.06-.94 2.06-2.06.94z\"/><path d=\"M17.41 7.96l-1.37-1.37c-.4-.4-.92-.59-1.43-.59-.52 0-1.04.2-1.43.59L10.3 9.45l-7.72 7.72c-.78.78-.78 2.05 0 2.83L4 21.41c.39.39.9.59 1.41.59.51 0 1.02-.2 1.41-.59l7.78-7.78 2.81-2.81c.8-.78.8-2.07 0-2.86zM5.41 20L4 18.59l7.72-7.72 1.47 1.35L5.41 20z\"/>\n",
              "  </svg>\n",
              "      </button>\n",
              "      \n",
              "  <style>\n",
              "    .colab-df-container {\n",
              "      display:flex;\n",
              "      flex-wrap:wrap;\n",
              "      gap: 12px;\n",
              "    }\n",
              "\n",
              "    .colab-df-convert {\n",
              "      background-color: #E8F0FE;\n",
              "      border: none;\n",
              "      border-radius: 50%;\n",
              "      cursor: pointer;\n",
              "      display: none;\n",
              "      fill: #1967D2;\n",
              "      height: 32px;\n",
              "      padding: 0 0 0 0;\n",
              "      width: 32px;\n",
              "    }\n",
              "\n",
              "    .colab-df-convert:hover {\n",
              "      background-color: #E2EBFA;\n",
              "      box-shadow: 0px 1px 2px rgba(60, 64, 67, 0.3), 0px 1px 3px 1px rgba(60, 64, 67, 0.15);\n",
              "      fill: #174EA6;\n",
              "    }\n",
              "\n",
              "    [theme=dark] .colab-df-convert {\n",
              "      background-color: #3B4455;\n",
              "      fill: #D2E3FC;\n",
              "    }\n",
              "\n",
              "    [theme=dark] .colab-df-convert:hover {\n",
              "      background-color: #434B5C;\n",
              "      box-shadow: 0px 1px 3px 1px rgba(0, 0, 0, 0.15);\n",
              "      filter: drop-shadow(0px 1px 2px rgba(0, 0, 0, 0.3));\n",
              "      fill: #FFFFFF;\n",
              "    }\n",
              "  </style>\n",
              "\n",
              "      <script>\n",
              "        const buttonEl =\n",
              "          document.querySelector('#df-d00d54fd-7327-491b-ac06-585c05345979 button.colab-df-convert');\n",
              "        buttonEl.style.display =\n",
              "          google.colab.kernel.accessAllowed ? 'block' : 'none';\n",
              "\n",
              "        async function convertToInteractive(key) {\n",
              "          const element = document.querySelector('#df-d00d54fd-7327-491b-ac06-585c05345979');\n",
              "          const dataTable =\n",
              "            await google.colab.kernel.invokeFunction('convertToInteractive',\n",
              "                                                     [key], {});\n",
              "          if (!dataTable) return;\n",
              "\n",
              "          const docLinkHtml = 'Like what you see? Visit the ' +\n",
              "            '<a target=\"_blank\" href=https://colab.research.google.com/notebooks/data_table.ipynb>data table notebook</a>'\n",
              "            + ' to learn more about interactive tables.';\n",
              "          element.innerHTML = '';\n",
              "          dataTable['output_type'] = 'display_data';\n",
              "          await google.colab.output.renderOutput(dataTable, element);\n",
              "          const docLink = document.createElement('div');\n",
              "          docLink.innerHTML = docLinkHtml;\n",
              "          element.appendChild(docLink);\n",
              "        }\n",
              "      </script>\n",
              "    </div>\n",
              "  </div>\n",
              "  "
            ]
          },
          "metadata": {},
          "execution_count": 195
        }
      ]
    },
    {
      "cell_type": "code",
      "source": [
        "# a. Tamanho do dataset\n",
        "tamanho_dataset = df.shape\n",
        "print(\"Tamanho do dataset:\", tamanho_dataset)"
      ],
      "metadata": {
        "colab": {
          "base_uri": "https://localhost:8080/"
        },
        "id": "psOeWM9oS9S_",
        "outputId": "3e1c6d0e-c5bd-44cf-d300-2129c5e4b3a6"
      },
      "execution_count": null,
      "outputs": [
        {
          "output_type": "stream",
          "name": "stdout",
          "text": [
            "Tamanho do dataset: (17379, 17)\n"
          ]
        }
      ]
    },
    {
      "cell_type": "code",
      "source": [
        "# b. Média da coluna windspeed\n",
        "media_windspeed = df['windspeed'].mean()\n",
        "print(\"Média da coluna windspeed: \", media_windspeed)"
      ],
      "metadata": {
        "colab": {
          "base_uri": "https://localhost:8080/"
        },
        "id": "OtDIo8DeTD_V",
        "outputId": "da578abb-e56d-4e11-cec4-2f4ec9b46635"
      },
      "execution_count": null,
      "outputs": [
        {
          "output_type": "stream",
          "name": "stdout",
          "text": [
            "Média da coluna windspeed:  0.19009760630646177\n"
          ]
        }
      ]
    },
    {
      "cell_type": "code",
      "source": [
        "# c. Média da coluna temp\n",
        "media_temp = df['temp'].mean()\n",
        "print(\"Média da coluna temp: \", media_temp)"
      ],
      "metadata": {
        "colab": {
          "base_uri": "https://localhost:8080/"
        },
        "id": "lpN1vqJcTV-K",
        "outputId": "ce55782c-1982-4ec5-f218-db497ca35dcd"
      },
      "execution_count": null,
      "outputs": [
        {
          "output_type": "stream",
          "name": "stdout",
          "text": [
            "Média da coluna temp:  0.4969871684216583\n"
          ]
        }
      ]
    },
    {
      "cell_type": "code",
      "source": [
        "# d. Quantos registros existem para o ano de 2011\n",
        "df['datetime'] = pd.to_datetime(df['datetime'])\n",
        "registros_2011 = df[df['datetime'].dt.year == 2011].shape\n",
        "print(\"Número de registros em 2011:\", registros_2011)"
      ],
      "metadata": {
        "colab": {
          "base_uri": "https://localhost:8080/"
        },
        "id": "SDVCs3J8TvIM",
        "outputId": "594c3d4a-46d6-43d1-a144-6fd4d7778895"
      },
      "execution_count": null,
      "outputs": [
        {
          "output_type": "stream",
          "name": "stdout",
          "text": [
            "Número de registros em 2011: (8645, 17)\n"
          ]
        }
      ]
    },
    {
      "cell_type": "code",
      "source": [
        "# e. Quantos registros existem para o ano de 2012\n",
        "registros_2012 = df[df['datetime'].dt.year == 2012].shape\n",
        "print(\"Número de registros em 2012:\", registros_2012)"
      ],
      "metadata": {
        "colab": {
          "base_uri": "https://localhost:8080/"
        },
        "id": "lsYpVQ5jWKff",
        "outputId": "7b35c30b-a83b-42ec-8005-0be147e635db"
      },
      "execution_count": null,
      "outputs": [
        {
          "output_type": "stream",
          "name": "stdout",
          "text": [
            "Número de registros em 2012: (8734, 17)\n"
          ]
        }
      ]
    },
    {
      "cell_type": "code",
      "source": [
        "# f. Quantas locações de bicicletas foram efetuadas em 2011\n",
        "locacoes_2011 = df[df['datetime'].dt.year == 2011]['total_count'].sum()\n",
        "print(\"Número de locações em 2011:\", locacoes_2011)"
      ],
      "metadata": {
        "colab": {
          "base_uri": "https://localhost:8080/"
        },
        "id": "bl7Ua7V9WdIC",
        "outputId": "2bf3123e-5a74-4b7b-f955-6b9bd30ef7ef"
      },
      "execution_count": null,
      "outputs": [
        {
          "output_type": "stream",
          "name": "stdout",
          "text": [
            "Número de locações em 2011: 1243103\n"
          ]
        }
      ]
    },
    {
      "cell_type": "code",
      "source": [
        "# g. Quantas locações de bicicletas foram efetuadas em 2012\n",
        "locacoes_2012 = df[df['datetime'].dt.year == 2012]['total_count'].sum()\n",
        "print(\"Número de locações em 2012:\", locacoes_2012)"
      ],
      "metadata": {
        "colab": {
          "base_uri": "https://localhost:8080/"
        },
        "id": "TI41DNVwYTPF",
        "outputId": "aeed38bb-a6e8-41ec-ca44-67c3f21598a8"
      },
      "execution_count": null,
      "outputs": [
        {
          "output_type": "stream",
          "name": "stdout",
          "text": [
            "Número de locações em 2012: 2049576\n"
          ]
        }
      ]
    },
    {
      "cell_type": "code",
      "source": [
        "# h. Qual estação do ano contém a maior média de locações de bicicletas?\n",
        "estacoes = ['inverno', 'primavera', 'verão', 'outono']\n",
        "for i in range(len(estacoes)):\n",
        "    df['season'] = df['season'].replace(i+1, estacoes[i])\n",
        "\n",
        "media_estacoes = df.groupby('season')['total_count'].mean()\n",
        "estacoes_max_media = media_estacoes.idxmax()\n",
        "print(f\"A estação com maior média foi o {estacoes_max_media} com {media_estacoes.max()}\")"
      ],
      "metadata": {
        "colab": {
          "base_uri": "https://localhost:8080/"
        },
        "id": "_nq89nZtYwau",
        "outputId": "71619377-8a19-439a-acd7-bb049cfb19b4"
      },
      "execution_count": null,
      "outputs": [
        {
          "output_type": "stream",
          "name": "stdout",
          "text": [
            "A estação com maior média foi o verão com 236.01623665480426\n"
          ]
        }
      ]
    },
    {
      "cell_type": "code",
      "source": [
        "# i. Estação do ano com a menor média de locações de bicicletas\n",
        "estacoes_min_media = media_estacoes.idxmin()\n",
        "print(f\"A estação com media média foi o {estacoes_min_media} com {media_estacoes.min()}\")"
      ],
      "metadata": {
        "colab": {
          "base_uri": "https://localhost:8080/"
        },
        "id": "Uepsmiv6do28",
        "outputId": "d4e8b76f-f892-4489-a57a-bb1663e61ad6"
      },
      "execution_count": null,
      "outputs": [
        {
          "output_type": "stream",
          "name": "stdout",
          "text": [
            "A estação com media média foi o inverno com 111.11456859971712\n"
          ]
        }
      ]
    },
    {
      "cell_type": "code",
      "source": [
        "# j. Horário do dia com a maior média de locações de bicicletas\n",
        "media_horarios = df.groupby('hour')['total_count'].mean()\n",
        "horario_max_media = media_horarios.idxmax()\n",
        "print(f\"Horário do dia com a maior média de locações de bicicletas:{horario_max_media}h\")"
      ],
      "metadata": {
        "colab": {
          "base_uri": "https://localhost:8080/"
        },
        "id": "Ot8lFpt7eGi8",
        "outputId": "7548ead7-0102-4316-ba65-34901e7b45cd"
      },
      "execution_count": null,
      "outputs": [
        {
          "output_type": "stream",
          "name": "stdout",
          "text": [
            "Horário do dia com a maior média de locações de bicicletas:17h\n"
          ]
        }
      ]
    },
    {
      "cell_type": "code",
      "source": [
        "# k. Horário do dia com a menor média de locações de bicicletas\n",
        "horario_min_media = media_horarios.idxmin()\n",
        "print(f\"Horário do dia com a menor média de locações de bicicletas:{horario_min_media}h\")"
      ],
      "metadata": {
        "colab": {
          "base_uri": "https://localhost:8080/"
        },
        "id": "_wir5I_tfHYC",
        "outputId": "9be23f46-8132-46f9-801f-54e11b3da97f"
      },
      "execution_count": null,
      "outputs": [
        {
          "output_type": "stream",
          "name": "stdout",
          "text": [
            "Horário do dia com a menor média de locações de bicicletas:4h\n"
          ]
        }
      ]
    },
    {
      "cell_type": "code",
      "source": [
        "# l. Dia da semana com a maior média de locações de bicicletas\n",
        "dias_semana = ['domingo', 'segunda', 'terca', 'quarta', 'quinta', 'sexta', 'sabado']\n",
        "for i in range(7):\n",
        "  df['weekday'] = df['weekday'].replace(i, dias_semana[i])\n",
        "\n",
        "media_dias_semana = df.groupby('weekday')['total_count'].mean()\n",
        "dia_max_media = media_dias_semana.idxmax()\n",
        "print(f\"Dia da semana com a maior média de locações de bicicletas:{dia_max_media}\")"
      ],
      "metadata": {
        "colab": {
          "base_uri": "https://localhost:8080/"
        },
        "id": "1T23tcvqfrqm",
        "outputId": "64e36b9a-43d2-4648-ee95-71757a642534"
      },
      "execution_count": null,
      "outputs": [
        {
          "output_type": "stream",
          "name": "stdout",
          "text": [
            "Dia da semana com a maior média de locações de bicicletas:quinta\n"
          ]
        }
      ]
    },
    {
      "cell_type": "code",
      "source": [
        "# m. Dia da semana com a menor média de locações de bicicletas\n",
        "dia_min_media = media_dias_semana.idxmin()\n",
        "print(f\"Dia da semana com a menor média de locações de bicicletas:{dia_min_media}\")"
      ],
      "metadata": {
        "colab": {
          "base_uri": "https://localhost:8080/"
        },
        "id": "BfNnKqLChhC-",
        "outputId": "1a114be1-cf68-477b-edf8-144584bd92dc"
      },
      "execution_count": null,
      "outputs": [
        {
          "output_type": "stream",
          "name": "stdout",
          "text": [
            "Dia da semana com a menor média de locações de bicicletas:domingo\n"
          ]
        }
      ]
    },
    {
      "cell_type": "code",
      "source": [
        "# n. Horário do dia com a maior média de locações de bicicletas às quartas-feiras\n",
        "media_quarta = df[df['weekday'] == 'quarta'].groupby('hour')['total_count'].mean()\n",
        "quarta_max_media = media_quarta.idxmax()\n",
        "print(f\"O horário com maior número de locações foi {quarta_max_media}h\")"
      ],
      "metadata": {
        "colab": {
          "base_uri": "https://localhost:8080/"
        },
        "id": "qbWciqNQhvHo",
        "outputId": "8efef8ce-f4fb-478b-d855-95134f2c2bd1"
      },
      "execution_count": null,
      "outputs": [
        {
          "output_type": "stream",
          "name": "stdout",
          "text": [
            "O horário com maior número de locações foi 17h\n"
          ]
        }
      ]
    },
    {
      "cell_type": "code",
      "source": [
        "# o. Horário do dia com a maior média de locações de bicicletas aos sábados\n",
        "media_sabado = df[df['weekday'] == 'sabado'].groupby('hour')['total_count'].mean()\n",
        "sabado_max_media = media_sabado.idxmax()\n",
        "print(f\"O horário com maior número de locações foi {sabado_max_media}h\")"
      ],
      "metadata": {
        "colab": {
          "base_uri": "https://localhost:8080/"
        },
        "id": "Brf1S6VbibS6",
        "outputId": "21e09ef8-9edf-4472-a9b0-356549f6b528"
      },
      "execution_count": null,
      "outputs": [
        {
          "output_type": "stream",
          "name": "stdout",
          "text": [
            "O horário com maior número de locações foi 13h\n"
          ]
        }
      ]
    }
  ]
}